{
  "nbformat": 4,
  "nbformat_minor": 0,
  "metadata": {
    "colab": {
      "name": "linear_regression.ipynb",
      "provenance": [],
      "collapsed_sections": [],
      "authorship_tag": "ABX9TyPfkYu5ir62Sz0mTR08MN/V",
      "include_colab_link": true
    },
    "kernelspec": {
      "name": "python3",
      "display_name": "Python 3"
    }
  },
  "cells": [
    {
      "cell_type": "markdown",
      "metadata": {
        "id": "view-in-github",
        "colab_type": "text"
      },
      "source": [
        "<a href=\"https://colab.research.google.com/github/Sajan4072/Regression/blob/master/linear_regression.ipynb\" target=\"_parent\"><img src=\"https://colab.research.google.com/assets/colab-badge.svg\" alt=\"Open In Colab\"/></a>"
      ]
    },
    {
      "cell_type": "markdown",
      "metadata": {
        "id": "cHHnlao3wppx",
        "colab_type": "text"
      },
      "source": [
        "##linear regression for 1 feature data\n"
      ]
    },
    {
      "cell_type": "code",
      "metadata": {
        "id": "p5R3SHRzw6An",
        "colab_type": "code",
        "colab": {}
      },
      "source": [
        "#importing libraries \n",
        "import numpy as np \n",
        "import pandas as pd\n",
        "import matplotlib.pyplot as plt\n"
      ],
      "execution_count": 0,
      "outputs": []
    },
    {
      "cell_type": "code",
      "metadata": {
        "id": "1bjdywoO2NUN",
        "colab_type": "code",
        "colab": {}
      },
      "source": [
        "%matplotlib inline"
      ],
      "execution_count": 0,
      "outputs": []
    },
    {
      "cell_type": "markdown",
      "metadata": {
        "id": "emZjGYyG2S_5",
        "colab_type": "text"
      },
      "source": [
        "##Generating dummy data"
      ]
    },
    {
      "cell_type": "code",
      "metadata": {
        "id": "lYgcfLyZ2jtR",
        "colab_type": "code",
        "outputId": "cf7d36b4-2a23-424a-f957-c3ad737c6e20",
        "colab": {
          "base_uri": "https://localhost:8080/",
          "height": 299
        }
      },
      "source": [
        "#data generation \n",
        "x=np.linspace(1,10,100)\n",
        "y= x*2 + np.random.rand(100)\n",
        "\n",
        "\n",
        "#labelling the axes along the axis spines\n",
        "plt.ylabel('Data to be preedicted')\n",
        "plt.xlabel('Data')\n",
        "plt.xticks(np.arange(1,11),rotation=90)\n",
        "\n",
        "#scatter plot of the dummy data \n",
        "plt.scatter(x,y,color='r',s=10)\n"
      ],
      "execution_count": 72,
      "outputs": [
        {
          "output_type": "execute_result",
          "data": {
            "text/plain": [
              "<matplotlib.collections.PathCollection at 0x7ffb03ae7278>"
            ]
          },
          "metadata": {
            "tags": []
          },
          "execution_count": 72
        },
        {
          "output_type": "display_data",
          "data": {
            "image/png": "[encoded data removed]",
            "text/plain": [
              "<Figure size 432x288 with 1 Axes>"
            ]
          },
          "metadata": {
            "tags": [],
            "needs_background": "light"
          }
        }
      ]
    },
    {
      "cell_type": "markdown",
      "metadata": {
        "id": "Fuoinm5pZ7P6",
        "colab_type": "text"
      },
      "source": [
        "##Build a model to fit the data\n",
        "We can see the data folloes a somewhat a linear path. So we use linear regression to predict y_value based on x_value."
      ]
    },
    {
      "cell_type": "code",
      "metadata": {
        "id": "veHvAWf8aa1-",
        "colab_type": "code",
        "colab": {}
      },
      "source": [
        "#the amount by which our data may lie off from the fitted line\n",
        "errors=y-x*2 #can visualize using a bar chart  "
      ],
      "execution_count": 0,
      "outputs": []
    },
    {
      "cell_type": "code",
      "metadata": {
        "id": "r341Klrfbdbe",
        "colab_type": "code",
        "colab": {}
      },
      "source": [
        "#import LinearRegression(which fits a linear model with coefficients ws to minimize the residual sum of squares between the observed targets in the dataset, and the targets predicted by the linear approximation)\n",
        "from sklearn.linear_model import LinearRegression\n",
        "reg=LinearRegression(fit_intercept=True)\n"
      ],
      "execution_count": 0,
      "outputs": []
    },
    {
      "cell_type": "markdown",
      "metadata": {
        "id": "eiJBNTTnfye6",
        "colab_type": "text"
      },
      "source": [
        "Now, we split the data into our training set and test set to check the accuracy of predictive power of our model."
      ]
    },
    {
      "cell_type": "code",
      "metadata": {
        "id": "yWWN2qfZgRSd",
        "colab_type": "code",
        "colab": {}
      },
      "source": [
        "x_train=x[:70].reshape(-1,1) #convert our data from 1D to 2D\n",
        "y_train=y[:70]\n",
        "\n",
        "x_test=x[70:].reshape(-1,1)\n",
        "y_test=y[70:]"
      ],
      "execution_count": 0,
      "outputs": []
    },
    {
      "cell_type": "markdown",
      "metadata": {
        "id": "Kx9MjClCksiW",
        "colab_type": "text"
      },
      "source": [
        "train our linear regression model"
      ]
    },
    {
      "cell_type": "code",
      "metadata": {
        "id": "V73FRVXLkyKt",
        "colab_type": "code",
        "outputId": "ac06c581-9b72-4755-dda8-16fc12cdc722",
        "colab": {
          "base_uri": "https://localhost:8080/",
          "height": 34
        }
      },
      "source": [
        "reg.fit(x_train,y_train)"
      ],
      "execution_count": 76,
      "outputs": [
        {
          "output_type": "execute_result",
          "data": {
            "text/plain": [
              "LinearRegression(copy_X=True, fit_intercept=True, n_jobs=None, normalize=False)"
            ]
          },
          "metadata": {
            "tags": []
          },
          "execution_count": 76
        }
      ]
    },
    {
      "cell_type": "markdown",
      "metadata": {
        "id": "602zFOyurU8V",
        "colab_type": "text"
      },
      "source": [
        "y_pred contains value that the model predicts in place of y_test"
      ]
    },
    {
      "cell_type": "code",
      "metadata": {
        "id": "jUbU6RUPrnZm",
        "colab_type": "code",
        "colab": {}
      },
      "source": [
        "y_pred=reg.predict(x_test)"
      ],
      "execution_count": 0,
      "outputs": []
    },
    {
      "cell_type": "markdown",
      "metadata": {
        "id": "s0_vckTnsBzV",
        "colab_type": "text"
      },
      "source": [
        "To see the model we,ve built by extracting the weight(slope) and bias(intercept) that the model learnt form our data ."
      ]
    },
    {
      "cell_type": "code",
      "metadata": {
        "id": "3Ap9nNzPsWC_",
        "colab_type": "code",
        "outputId": "a6e731c4-e7c0-4aea-c65d-d29d0ed39704",
        "colab": {
          "base_uri": "https://localhost:8080/",
          "height": 298
        }
      },
      "source": [
        "weight = reg.coef_\n",
        "bias=reg.intercept_\n",
        "plt.plot(x,bias+weight*x,x,y,'r.')"
      ],
      "execution_count": 78,
      "outputs": [
        {
          "output_type": "execute_result",
          "data": {
            "text/plain": [
              "[<matplotlib.lines.Line2D at 0x7ffb038504a8>,\n",
              " <matplotlib.lines.Line2D at 0x7ffb03850e48>]"
            ]
          },
          "metadata": {
            "tags": []
          },
          "execution_count": 78
        },
        {
          "output_type": "display_data",
          "data": {
            "image/png": "[encoded data removed]",
            "text/plain": [
              "<Figure size 432x288 with 1 Axes>"
            ]
          },
          "metadata": {
            "tags": [],
            "needs_background": "light"
          }
        }
      ]
    },
    {
      "cell_type": "code",
      "metadata": {
        "id": "0GBqNtipuRZm",
        "colab_type": "code",
        "outputId": "6ea9dd66-c7ba-453b-be00-0f270c191cbe",
        "colab": {
          "base_uri": "https://localhost:8080/",
          "height": 34
        }
      },
      "source": [
        "#the model that we created is a bunch of weights assigned to our input variable\n",
        "weight"
      ],
      "execution_count": 79,
      "outputs": [
        {
          "output_type": "execute_result",
          "data": {
            "text/plain": [
              "array([1.97383471])"
            ]
          },
          "metadata": {
            "tags": []
          },
          "execution_count": 79
        }
      ]
    },
    {
      "cell_type": "markdown",
      "metadata": {
        "id": "xesozp-5u0OF",
        "colab_type": "text"
      },
      "source": [
        "To see how well our model predicted the data, we use a simple metric called sum of squares(MSE) to figure out the relative error of our model."
      ]
    },
    {
      "cell_type": "code",
      "metadata": {
        "id": "9_0sb3EwvM1l",
        "colab_type": "code",
        "outputId": "c063d676-856b-442f-9c46-d543bdfbbeca",
        "colab": {
          "base_uri": "https://localhost:8080/",
          "height": 50
        }
      },
      "source": [
        "MSE=(sum((y_pred-y_test)**2))/len(y_test)\n",
        "print(\"Mean Sum of squares:\",MSE)\n",
        "\n",
        "#alternate is use the library funtion \n",
        "from sklearn.metrics import mean_squared_error\n",
        "print(\"MSE using library function:\",mean_squared_error(y_test,y_pred))"
      ],
      "execution_count": 80,
      "outputs": [
        {
          "output_type": "stream",
          "text": [
            "Mean Sum of squares: 0.09156978434380267\n",
            "MSE using library function: 0.09156978434380267\n"
          ],
          "name": "stdout"
        }
      ]
    },
    {
      "cell_type": "markdown",
      "metadata": {
        "id": "rV2rBUP5z3qA",
        "colab_type": "text"
      },
      "source": [
        "##Boston housing data set\n",
        "\n",
        "This housing data set contains multiple features so that the model should work with multiple regression coefficients and also deal with multicollinearity."
      ]
    },
    {
      "cell_type": "code",
      "metadata": {
        "id": "gICD3MI00XbN",
        "colab_type": "code",
        "colab": {}
      },
      "source": [
        "#import the module scikit-learn\n",
        "import sklearn as sk "
      ],
      "execution_count": 0,
      "outputs": []
    },
    {
      "cell_type": "code",
      "metadata": {
        "id": "LrcqmQVQ0gUs",
        "colab_type": "code",
        "colab": {}
      },
      "source": [
        "#import the housing dataset from sklearn \n",
        "from sklearn.datasets import load_boston"
      ],
      "execution_count": 0,
      "outputs": []
    },
    {
      "cell_type": "markdown",
      "metadata": {
        "id": "FeQdKFC-0qWv",
        "colab_type": "text"
      },
      "source": [
        "print the description attribute that sklearn provides"
      ]
    },
    {
      "cell_type": "code",
      "metadata": {
        "id": "OHtRkJgz05sF",
        "colab_type": "code",
        "colab": {
          "base_uri": "https://localhost:8080/",
          "height": 894
        },
        "outputId": "5833e949-0184-4e0e-8f8f-c26a29c44d90"
      },
      "source": [
        "print(load_boston().DESCR)"
      ],
      "execution_count": 83,
      "outputs": [
        {
          "output_type": "stream",
          "text": [
            ".. _boston_dataset:\n",
            "\n",
            "Boston house prices dataset\n",
            "---------------------------\n",
            "\n",
            "**Data Set Characteristics:**  \n",
            "\n",
            "    :Number of Instances: 506 \n",
            "\n",
            "    :Number of Attributes: 13 numeric/categorical predictive. Median Value (attribute 14) is usually the target.\n",
            "\n",
            "    :Attribute Information (in order):\n",
            "        - CRIM     per capita crime rate by town\n",
            "        - ZN       proportion of residential land zoned for lots over 25,000 sq.ft.\n",
            "        - INDUS    proportion of non-retail business acres per town\n",
            "        - CHAS     Charles River dummy variable (= 1 if tract bounds river; 0 otherwise)\n",
            "        - NOX      nitric oxides concentration (parts per 10 million)\n",
            "        - RM       average number of rooms per dwelling\n",
            "        - AGE      proportion of owner-occupied units built prior to 1940\n",
            "        - DIS      weighted distances to five Boston employment centres\n",
            "        - RAD      index of accessibility to radial highways\n",
            "        - TAX      full-value property-tax rate per $10,000\n",
            "        - PTRATIO  pupil-teacher ratio by town\n",
            "        - B        1000(Bk - 0.63)^2 where Bk is the proportion of blacks by town\n",
            "        - LSTAT    % lower status of the population\n",
            "        - MEDV     Median value of owner-occupied homes in $1000's\n",
            "\n",
            "    :Missing Attribute Values: None\n",
            "\n",
            "    :Creator: Harrison, D. and Rubinfeld, D.L.\n",
            "\n",
            "This is a copy of UCI ML housing dataset.\n",
            "https://archive.ics.uci.edu/ml/machine-learning-databases/housing/\n",
            "\n",
            "\n",
            "This dataset was taken from the StatLib library which is maintained at Carnegie Mellon University.\n",
            "\n",
            "The Boston house-price data of Harrison, D. and Rubinfeld, D.L. 'Hedonic\n",
            "prices and the demand for clean air', J. Environ. Economics & Management,\n",
            "vol.5, 81-102, 1978.   Used in Belsley, Kuh & Welsch, 'Regression diagnostics\n",
            "...', Wiley, 1980.   N.B. Various transformations are used in the table on\n",
            "pages 244-261 of the latter.\n",
            "\n",
            "The Boston house-price data has been used in many machine learning papers that address regression\n",
            "problems.   \n",
            "     \n",
            ".. topic:: References\n",
            "\n",
            "   - Belsley, Kuh & Welsch, 'Regression diagnostics: Identifying Influential Data and Sources of Collinearity', Wiley, 1980. 244-261.\n",
            "   - Quinlan,R. (1993). Combining Instance-Based and Model-Based Learning. In Proceedings on the Tenth International Conference of Machine Learning, 236-243, University of Massachusetts, Amherst. Morgan Kaufmann.\n",
            "\n"
          ],
          "name": "stdout"
        }
      ]
    },
    {
      "cell_type": "code",
      "metadata": {
        "id": "pZidC5Tx43lw",
        "colab_type": "code",
        "colab": {}
      },
      "source": [
        "housing=pd.DataFrame(load_boston().data,columns=load_boston().feature_names)\n",
        "target=load_boston().target"
      ],
      "execution_count": 0,
      "outputs": []
    },
    {
      "cell_type": "code",
      "metadata": {
        "id": "e2jdNE_15Lau",
        "colab_type": "code",
        "colab": {}
      },
      "source": [
        "housing=pd.DataFrame(load_boston().data,columns=load_boston().feature_names)\n",
        "housing['target']=load_boston().target\n",
        "targets=load_boston().target"
      ],
      "execution_count": 0,
      "outputs": []
    },
    {
      "cell_type": "code",
      "metadata": {
        "id": "-vot74FP5lE8",
        "colab_type": "code",
        "colab": {
          "base_uri": "https://localhost:8080/",
          "height": 284
        },
        "outputId": "08815858-92b0-410b-ab81-f138a973d40e"
      },
      "source": [
        "housing.describe()"
      ],
      "execution_count": 88,
      "outputs": [
        {
          "output_type": "execute_result",
          "data": {
            "text/html": [
              "<div>\n",
              "<style scoped>\n",
              "    .dataframe tbody tr th:only-of-type {\n",
              "        vertical-align: middle;\n",
              "    }\n",
              "\n",
              "    .dataframe tbody tr th {\n",
              "        vertical-align: top;\n",
              "    }\n",
              "\n",
              "    .dataframe thead th {\n",
              "        text-align: right;\n",
              "    }\n",
              "</style>\n",
              "<table border=\"1\" class=\"dataframe\">\n",
              "  <thead>\n",
              "    <tr style=\"text-align: right;\">\n",
              "      <th></th>\n",
              "      <th>CRIM</th>\n",
              "      <th>ZN</th>\n",
              "      <th>INDUS</th>\n",
              "      <th>CHAS</th>\n",
              "      <th>NOX</th>\n",
              "      <th>RM</th>\n",
              "      <th>AGE</th>\n",
              "      <th>DIS</th>\n",
              "      <th>RAD</th>\n",
              "      <th>TAX</th>\n",
              "      <th>PTRATIO</th>\n",
              "      <th>B</th>\n",
              "      <th>LSTAT</th>\n",
              "      <th>target</th>\n",
              "    </tr>\n",
              "  </thead>\n",
              "  <tbody>\n",
              "    <tr>\n",
              "      <th>count</th>\n",
              "      <td>506.000000</td>\n",
              "      <td>506.000000</td>\n",
              "      <td>506.000000</td>\n",
              "      <td>506.000000</td>\n",
              "      <td>506.000000</td>\n",
              "      <td>506.000000</td>\n",
              "      <td>506.000000</td>\n",
              "      <td>506.000000</td>\n",
              "      <td>506.000000</td>\n",
              "      <td>506.000000</td>\n",
              "      <td>506.000000</td>\n",
              "      <td>506.000000</td>\n",
              "      <td>506.000000</td>\n",
              "      <td>506.000000</td>\n",
              "    </tr>\n",
              "    <tr>\n",
              "      <th>mean</th>\n",
              "      <td>3.613524</td>\n",
              "      <td>11.363636</td>\n",
              "      <td>11.136779</td>\n",
              "      <td>0.069170</td>\n",
              "      <td>0.554695</td>\n",
              "      <td>6.284634</td>\n",
              "      <td>68.574901</td>\n",
              "      <td>3.795043</td>\n",
              "      <td>9.549407</td>\n",
              "      <td>408.237154</td>\n",
              "      <td>18.455534</td>\n",
              "      <td>356.674032</td>\n",
              "      <td>12.653063</td>\n",
              "      <td>22.532806</td>\n",
              "    </tr>\n",
              "    <tr>\n",
              "      <th>std</th>\n",
              "      <td>8.601545</td>\n",
              "      <td>23.322453</td>\n",
              "      <td>6.860353</td>\n",
              "      <td>0.253994</td>\n",
              "      <td>0.115878</td>\n",
              "      <td>0.702617</td>\n",
              "      <td>28.148861</td>\n",
              "      <td>2.105710</td>\n",
              "      <td>8.707259</td>\n",
              "      <td>168.537116</td>\n",
              "      <td>2.164946</td>\n",
              "      <td>91.294864</td>\n",
              "      <td>7.141062</td>\n",
              "      <td>9.197104</td>\n",
              "    </tr>\n",
              "    <tr>\n",
              "      <th>min</th>\n",
              "      <td>0.006320</td>\n",
              "      <td>0.000000</td>\n",
              "      <td>0.460000</td>\n",
              "      <td>0.000000</td>\n",
              "      <td>0.385000</td>\n",
              "      <td>3.561000</td>\n",
              "      <td>2.900000</td>\n",
              "      <td>1.129600</td>\n",
              "      <td>1.000000</td>\n",
              "      <td>187.000000</td>\n",
              "      <td>12.600000</td>\n",
              "      <td>0.320000</td>\n",
              "      <td>1.730000</td>\n",
              "      <td>5.000000</td>\n",
              "    </tr>\n",
              "    <tr>\n",
              "      <th>25%</th>\n",
              "      <td>0.082045</td>\n",
              "      <td>0.000000</td>\n",
              "      <td>5.190000</td>\n",
              "      <td>0.000000</td>\n",
              "      <td>0.449000</td>\n",
              "      <td>5.885500</td>\n",
              "      <td>45.025000</td>\n",
              "      <td>2.100175</td>\n",
              "      <td>4.000000</td>\n",
              "      <td>279.000000</td>\n",
              "      <td>17.400000</td>\n",
              "      <td>375.377500</td>\n",
              "      <td>6.950000</td>\n",
              "      <td>17.025000</td>\n",
              "    </tr>\n",
              "    <tr>\n",
              "      <th>50%</th>\n",
              "      <td>0.256510</td>\n",
              "      <td>0.000000</td>\n",
              "      <td>9.690000</td>\n",
              "      <td>0.000000</td>\n",
              "      <td>0.538000</td>\n",
              "      <td>6.208500</td>\n",
              "      <td>77.500000</td>\n",
              "      <td>3.207450</td>\n",
              "      <td>5.000000</td>\n",
              "      <td>330.000000</td>\n",
              "      <td>19.050000</td>\n",
              "      <td>391.440000</td>\n",
              "      <td>11.360000</td>\n",
              "      <td>21.200000</td>\n",
              "    </tr>\n",
              "    <tr>\n",
              "      <th>75%</th>\n",
              "      <td>3.677083</td>\n",
              "      <td>12.500000</td>\n",
              "      <td>18.100000</td>\n",
              "      <td>0.000000</td>\n",
              "      <td>0.624000</td>\n",
              "      <td>6.623500</td>\n",
              "      <td>94.075000</td>\n",
              "      <td>5.188425</td>\n",
              "      <td>24.000000</td>\n",
              "      <td>666.000000</td>\n",
              "      <td>20.200000</td>\n",
              "      <td>396.225000</td>\n",
              "      <td>16.955000</td>\n",
              "      <td>25.000000</td>\n",
              "    </tr>\n",
              "    <tr>\n",
              "      <th>max</th>\n",
              "      <td>88.976200</td>\n",
              "      <td>100.000000</td>\n",
              "      <td>27.740000</td>\n",
              "      <td>1.000000</td>\n",
              "      <td>0.871000</td>\n",
              "      <td>8.780000</td>\n",
              "      <td>100.000000</td>\n",
              "      <td>12.126500</td>\n",
              "      <td>24.000000</td>\n",
              "      <td>711.000000</td>\n",
              "      <td>22.000000</td>\n",
              "      <td>396.900000</td>\n",
              "      <td>37.970000</td>\n",
              "      <td>50.000000</td>\n",
              "    </tr>\n",
              "  </tbody>\n",
              "</table>\n",
              "</div>"
            ],
            "text/plain": [
              "             CRIM          ZN       INDUS  ...           B       LSTAT      target\n",
              "count  506.000000  506.000000  506.000000  ...  506.000000  506.000000  506.000000\n",
              "mean     3.613524   11.363636   11.136779  ...  356.674032   12.653063   22.532806\n",
              "std      8.601545   23.322453    6.860353  ...   91.294864    7.141062    9.197104\n",
              "min      0.006320    0.000000    0.460000  ...    0.320000    1.730000    5.000000\n",
              "25%      0.082045    0.000000    5.190000  ...  375.377500    6.950000   17.025000\n",
              "50%      0.256510    0.000000    9.690000  ...  391.440000   11.360000   21.200000\n",
              "75%      3.677083   12.500000   18.100000  ...  396.225000   16.955000   25.000000\n",
              "max     88.976200  100.000000   27.740000  ...  396.900000   37.970000   50.000000\n",
              "\n",
              "[8 rows x 14 columns]"
            ]
          },
          "metadata": {
            "tags": []
          },
          "execution_count": 88
        }
      ]
    },
    {
      "cell_type": "markdown",
      "metadata": {
        "id": "vvQ1vOtd5_ez",
        "colab_type": "text"
      },
      "source": [
        "To visualize and learn more about the data we will use seaborn which is built on top of matplotlib. But before that,we attempt to analyze the data."
      ]
    },
    {
      "cell_type": "code",
      "metadata": {
        "id": "t-2xsAYU6VY_",
        "colab_type": "code",
        "colab": {
          "base_uri": "https://localhost:8080/",
          "height": 252
        },
        "outputId": "0e435b94-7356-4850-af2e-7d7c9010360f"
      },
      "source": [
        "#establish preliminary correlations\n",
        "pearson_corr=housing.corr(method='pearson')\n",
        "corr_target=pearson_corr.iloc[-1][:-1].sort_values(ascending=False)\n",
        "corr_target"
      ],
      "execution_count": 89,
      "outputs": [
        {
          "output_type": "execute_result",
          "data": {
            "text/plain": [
              "RM         0.695360\n",
              "ZN         0.360445\n",
              "B          0.333461\n",
              "DIS        0.249929\n",
              "CHAS       0.175260\n",
              "AGE       -0.376955\n",
              "RAD       -0.381626\n",
              "CRIM      -0.388305\n",
              "NOX       -0.427321\n",
              "TAX       -0.468536\n",
              "INDUS     -0.483725\n",
              "PTRATIO   -0.507787\n",
              "LSTAT     -0.737663\n",
              "Name: target, dtype: float64"
            ]
          },
          "metadata": {
            "tags": []
          },
          "execution_count": 89
        }
      ]
    },
    {
      "cell_type": "code",
      "metadata": {
        "id": "RTJmJd1G7ZAl",
        "colab_type": "code",
        "colab": {
          "base_uri": "https://localhost:8080/",
          "height": 252
        },
        "outputId": "f8e6bab0-c0e7-472c-ea1f-89af8a63e703"
      },
      "source": [
        "corr_target[abs(corr_target).argsort()[::-1]]"
      ],
      "execution_count": 90,
      "outputs": [
        {
          "output_type": "execute_result",
          "data": {
            "text/plain": [
              "LSTAT     -0.737663\n",
              "RM         0.695360\n",
              "PTRATIO   -0.507787\n",
              "INDUS     -0.483725\n",
              "TAX       -0.468536\n",
              "NOX       -0.427321\n",
              "CRIM      -0.388305\n",
              "RAD       -0.381626\n",
              "AGE       -0.376955\n",
              "ZN         0.360445\n",
              "B          0.333461\n",
              "DIS        0.249929\n",
              "CHAS       0.175260\n",
              "Name: target, dtype: float64"
            ]
          },
          "metadata": {
            "tags": []
          },
          "execution_count": 90
        }
      ]
    },
    {
      "cell_type": "code",
      "metadata": {
        "id": "0bIXMWvu7mj_",
        "colab_type": "code",
        "colab": {}
      },
      "source": [
        "#correlation between features\n",
        "corr_without_target = pearson_corr.iloc[:-1,:-1]\n",
        "# threshold = 0.5 # correlations smaller than this aren't recorded\n",
        "\n",
        "# significant_corr = dict()\n",
        "\n",
        "# for rows in corr_without_target.keys():\n",
        "#   for cols in corr_without_target[rows].keys():\n",
        "#     if((rows is not cols) and (corr_without_target[rows][cols] >= threshold)):\n",
        "#       significant_corr[rows,cols] = corr_without_target[rows][cols]\n",
        "# print(significant_corr)\n"
      ],
      "execution_count": 0,
      "outputs": []
    },
    {
      "cell_type": "code",
      "metadata": {
        "id": "IDL3Njdr7vFO",
        "colab_type": "code",
        "colab": {
          "base_uri": "https://localhost:8080/",
          "height": 70
        },
        "outputId": "dc5aee31-eb78-46fb-83c6-c80ed37c2ab6"
      },
      "source": [
        "import seaborn as sns"
      ],
      "execution_count": 92,
      "outputs": [
        {
          "output_type": "stream",
          "text": [
            "/usr/local/lib/python3.6/dist-packages/statsmodels/tools/_testing.py:19: FutureWarning: pandas.util.testing is deprecated. Use the functions in the public API at pandas.testing instead.\n",
            "  import pandas.util.testing as tm\n"
          ],
          "name": "stderr"
        }
      ]
    },
    {
      "cell_type": "code",
      "metadata": {
        "id": "YoXBOTbr71zc",
        "colab_type": "code",
        "colab": {
          "base_uri": "https://localhost:8080/",
          "height": 613
        },
        "outputId": "cf96acce-d460-4d08-d656-415c0556fd57"
      },
      "source": [
        "fig, ax = plt.subplots(figsize=(10,10))\n",
        "sns.heatmap(corr_without_target,ax=ax)"
      ],
      "execution_count": 93,
      "outputs": [
        {
          "output_type": "execute_result",
          "data": {
            "text/plain": [
              "<matplotlib.axes._subplots.AxesSubplot at 0x7ffaffffd978>"
            ]
          },
          "metadata": {
            "tags": []
          },
          "execution_count": 93
        },
        {
          "output_type": "display_data",
          "data": {
            "image/png": "[encoded data removed]",
            "text/plain": [
              "<Figure size 720x720 with 2 Axes>"
            ]
          },
          "metadata": {
            "tags": [],
            "needs_background": "light"
          }
        }
      ]
    },
    {
      "cell_type": "code",
      "metadata": {
        "id": "YoUuMkIS77Lx",
        "colab_type": "code",
        "colab": {
          "base_uri": "https://localhost:8080/",
          "height": 458
        },
        "outputId": "96135ec6-a113-4585-db17-306b5a893a26"
      },
      "source": [
        "sns.jointplot(housing.DIS, housing.NOX, kind='reg')"
      ],
      "execution_count": 94,
      "outputs": [
        {
          "output_type": "execute_result",
          "data": {
            "text/plain": [
              "<seaborn.axisgrid.JointGrid at 0x7ffafecb6e10>"
            ]
          },
          "metadata": {
            "tags": []
          },
          "execution_count": 94
        },
        {
          "output_type": "display_data",
          "data": {
            "image/png": "[encoded data removed]",
            "text/plain": [
              "<Figure size 432x432 with 3 Axes>"
            ]
          },
          "metadata": {
            "tags": [],
            "needs_background": "light"
          }
        }
      ]
    },
    {
      "cell_type": "markdown",
      "metadata": {
        "id": "iX4fL6XN8Ntz",
        "colab_type": "text"
      },
      "source": [
        "When the data contains features that are highly correlated, better results will be produced if those correlations are controlled for by proper feature selection. Ideally, we would want completely independent features to build our model."
      ]
    },
    {
      "cell_type": "code",
      "metadata": {
        "id": "nZIk3BDQ8WOv",
        "colab_type": "code",
        "colab": {}
      },
      "source": [
        "#function to split the data \n",
        "from sklearn.model_selection import train_test_split"
      ],
      "execution_count": 0,
      "outputs": []
    },
    {
      "cell_type": "code",
      "metadata": {
        "id": "Pss2EgnD8iT0",
        "colab_type": "code",
        "colab": {}
      },
      "source": [
        "housing_without_targets = housing.drop('target',axis=1)\n",
        "X_train, X_test, y_train, y_test = \\\n",
        "    train_test_split(housing_without_targets, targets, test_size = 0.3, random_state = 1)"
      ],
      "execution_count": 0,
      "outputs": []
    },
    {
      "cell_type": "code",
      "metadata": {
        "id": "Xo6fRZUq8uId",
        "colab_type": "code",
        "colab": {}
      },
      "source": [
        "from sklearn.linear_model import LinearRegression"
      ],
      "execution_count": 0,
      "outputs": []
    },
    {
      "cell_type": "code",
      "metadata": {
        "id": "c4PXqQXA82YT",
        "colab_type": "code",
        "colab": {}
      },
      "source": [
        "reg= LinearRegression(fit_intercept=True)"
      ],
      "execution_count": 0,
      "outputs": []
    },
    {
      "cell_type": "code",
      "metadata": {
        "id": "wiiieAuG9EVd",
        "colab_type": "code",
        "colab": {
          "base_uri": "https://localhost:8080/",
          "height": 34
        },
        "outputId": "dbf90ef8-47a2-4f6e-bf4f-ad312f73fd7a"
      },
      "source": [
        "reg.fit(X_train,y_train)"
      ],
      "execution_count": 101,
      "outputs": [
        {
          "output_type": "execute_result",
          "data": {
            "text/plain": [
              "LinearRegression(copy_X=True, fit_intercept=True, n_jobs=None, normalize=False)"
            ]
          },
          "metadata": {
            "tags": []
          },
          "execution_count": 101
        }
      ]
    },
    {
      "cell_type": "code",
      "metadata": {
        "id": "LOHUNRLi9i7i",
        "colab_type": "code",
        "colab": {}
      },
      "source": [
        "y_pred = reg.predict(X_test)"
      ],
      "execution_count": 0,
      "outputs": []
    },
    {
      "cell_type": "code",
      "metadata": {
        "id": "0nCtwliu9p_W",
        "colab_type": "code",
        "colab": {}
      },
      "source": [
        "#check the error in our model prediction\n",
        "from sklearn.metrics import mean_squared_error, r2_score"
      ],
      "execution_count": 0,
      "outputs": []
    },
    {
      "cell_type": "code",
      "metadata": {
        "id": "81ATgJBD9-e1",
        "colab_type": "code",
        "colab": {
          "base_uri": "https://localhost:8080/",
          "height": 67
        },
        "outputId": "77dc1448-2055-404b-daeb-c77bbe63ee92"
      },
      "source": [
        "print(\"mean squared error with LinearRegressor(): \\n\",mean_squared_error(y_test, y_pred),\n",
        "      \"\\nOur model explains {:.1f}\".format(\n",
        "r2_score(y_test,y_pred)*100)+\"% of our data\")"
      ],
      "execution_count": 105,
      "outputs": [
        {
          "output_type": "stream",
          "text": [
            "mean squared error with LinearRegressor(): \n",
            " 19.831323672062922 \n",
            "Our model explains 78.4% of our data\n"
          ],
          "name": "stdout"
        }
      ]
    },
    {
      "cell_type": "markdown",
      "metadata": {
        "id": "3wFCAIue_PBp",
        "colab_type": "text"
      },
      "source": [
        "##Overfitting and underfitting\n",
        "\n",
        "While building a model, it is important to check whether the model performs well. This means that the model must be able to generalize beyond the present training data. To do this, the model must capture the actual structure of the data well enough. It must be able to ignore the noise in the data\n",
        "\n"
      ]
    },
    {
      "cell_type": "code",
      "metadata": {
        "id": "BepKA-qvAQKS",
        "colab_type": "code",
        "colab": {
          "base_uri": "https://localhost:8080/",
          "height": 282
        },
        "outputId": "c72ee962-b671-48cf-89e0-22adeada205d"
      },
      "source": [
        "# for a function f(x):\n",
        "def f(x):\n",
        "  \"\"\"This is the true function. This is what the model must predict.\n",
        "  The rest is just noise that the model must ignore.\n",
        "  You may try out different functions with Range(1,20).\n",
        "  Change the returned expression to any other polynomial function.\"\"\"\n",
        "  return x**2\n",
        "# let's understand this problem with a trivial dataset\n",
        "# create a random dataset that would fit to a polynomial regressor\n",
        "X = np.linspace(1,20,30)\n",
        "y = f(X) + 15*np.random.randn(30)\n",
        "\n",
        "# split the train and test data\n",
        "\n",
        "X_train,X_test,y_train, y_test = train_test_split(X,y,shuffle=False)\n",
        "\n",
        "# plot the data\n",
        "plt.plot(X_train,y_train,'r.',label = 'Training data')\n",
        "#True function plot\n",
        "plt.plot(np.linspace(1,14),f(np.linspace(1,14)),label='True Function',c='orange')\n",
        "plt.legend()"
      ],
      "execution_count": 106,
      "outputs": [
        {
          "output_type": "execute_result",
          "data": {
            "text/plain": [
              "<matplotlib.legend.Legend at 0x7ffafea7b550>"
            ]
          },
          "metadata": {
            "tags": []
          },
          "execution_count": 106
        },
        {
          "output_type": "display_data",
          "data": {
            "image/png": "[encoded data removed]",
            "text/plain": [
              "<Figure size 432x288 with 1 Axes>"
            ]
          },
          "metadata": {
            "tags": [],
            "needs_background": "light"
          }
        }
      ]
    },
    {
      "cell_type": "markdown",
      "metadata": {
        "id": "wTYxsoajDV43",
        "colab_type": "text"
      },
      "source": [
        "##underfitting"
      ]
    },
    {
      "cell_type": "code",
      "metadata": {
        "id": "AvjMy1zlDZVA",
        "colab_type": "code",
        "colab": {}
      },
      "source": [
        "reg = LinearRegression(fit_intercept=True)"
      ],
      "execution_count": 0,
      "outputs": []
    },
    {
      "cell_type": "code",
      "metadata": {
        "id": "k9YdrqPeDc5A",
        "colab_type": "code",
        "colab": {
          "base_uri": "https://localhost:8080/",
          "height": 34
        },
        "outputId": "4a15107d-b465-4462-f754-479c6adcd9f4"
      },
      "source": [
        "#fit linearregression \n",
        "reg.fit(X_train.reshape(-1,1),y_train)"
      ],
      "execution_count": 108,
      "outputs": [
        {
          "output_type": "execute_result",
          "data": {
            "text/plain": [
              "LinearRegression(copy_X=True, fit_intercept=True, n_jobs=None, normalize=False)"
            ]
          },
          "metadata": {
            "tags": []
          },
          "execution_count": 108
        }
      ]
    },
    {
      "cell_type": "code",
      "metadata": {
        "id": "OqGSFIv7DpQQ",
        "colab_type": "code",
        "colab": {
          "base_uri": "https://localhost:8080/",
          "height": 313
        },
        "outputId": "126d1e2b-d7e4-40ec-c131-e93ff6ad627a"
      },
      "source": [
        "# data that the model predicts\n",
        "y_pred = reg.predict(X_test.reshape(-1,1))\n",
        "\n",
        "# plotting the model\n",
        "# data looks like this\n",
        "plt.plot(X_train,y_train,'r.',label = 'Training Data')\n",
        "\n",
        "# our fitted line in 2D looks like this\n",
        "plt.plot(X_train,reg.predict(X_train.reshape(-1,1)),label='Model',c='blue')\n",
        "plt.plot(np.linspace(1,14),f(np.linspace(1,14)),label='True Function',c='orange')\n",
        "plt.legend()\n",
        "plt.title(\n",
        "    label = \"MSE on train: {}\".format(mean_squared_error(y_train,reg.predict(X_train.reshape(-1,1)))) + \n",
        "    \"\\nMSE on test: {}\".format(mean_squared_error(y_test,y_pred))\n",
        ")"
      ],
      "execution_count": 109,
      "outputs": [
        {
          "output_type": "execute_result",
          "data": {
            "text/plain": [
              "Text(0.5, 1.0, 'MSE on train: 451.6078086464484\\nMSE on test: 6717.384953961113')"
            ]
          },
          "metadata": {
            "tags": []
          },
          "execution_count": 109
        },
        {
          "output_type": "display_data",
          "data": {
            "image/png": "[encoded data removed]",
            "text/plain": [
              "<Figure size 432x288 with 1 Axes>"
            ]
          },
          "metadata": {
            "tags": [],
            "needs_background": "light"
          }
        }
      ]
    },
    {
      "cell_type": "markdown",
      "metadata": {
        "id": "a7C-99V-FkKa",
        "colab_type": "text"
      },
      "source": [
        "## more refrence on [scikit_learn ](https://scikit-learn.org/stable/modules/generated/sklearn.linear_model.LinearRegression.html)\n",
        "[overfitting and underfitting](https://scikit-learn.org/stable/modules/generated/sklearn.linear_model.LinearRegression.html)"
      ]
    }
  ]
}